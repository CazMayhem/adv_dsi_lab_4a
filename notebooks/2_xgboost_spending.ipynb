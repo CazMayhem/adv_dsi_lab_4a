{
 "cells": [
  {
   "cell_type": "markdown",
   "metadata": {},
   "source": [
    "## 3. Load Data and Model\n",
    "\n",
    "**[3.1]** Import the pandas and numpy package"
   ]
  },
  {
   "cell_type": "code",
   "execution_count": 2,
   "metadata": {},
   "outputs": [],
   "source": [
    "import pandas as pd\n",
    "import numpy as np"
   ]
  },
  {
   "cell_type": "markdown",
   "metadata": {},
   "source": [
    "**[3.2]** Load the prepared dataset from `data/interim` into a dataframe called `df`\n"
   ]
  },
  {
   "cell_type": "code",
   "execution_count": 10,
   "metadata": {},
   "outputs": [],
   "source": [
    "# Create a variable called file_url containing th url to the raw dataset\n",
    "# Load the data in a dataframe called df\n",
    "file_url = 'https://raw.githubusercontent.com/AGilarde12/Mall-Customer-Segmentation/master/Data/Mall_Customers.csv'\n",
    "df = pd.read_csv(file_url)\n",
    "\n",
    "# # Save the dataframe locally in the data/raw folder\n",
    "df.to_csv('../data/raw/Mall_Customers.csv', index=False)\n",
    "\n",
    "# Create a copy of df and save it into a variable called df_cleaned\n",
    "# Drop the column CustomerID from the dataframe and save it into the data/interim folder\n",
    "df_cleaned = df.copy()\n",
    "df_cleaned.drop('CustomerID', axis=1, inplace=True)\n",
    "df_cleaned.to_csv('../data/interim/Mall_Customers.csv', index=False)"
   ]
  },
  {
   "cell_type": "code",
   "execution_count": 11,
   "metadata": {},
   "outputs": [],
   "source": [
    "# Load the prepared dataset from data/interim into a dataframe called df\n",
    "df = pd.read_csv('../data/interim/Mall_Customers.csv')"
   ]
  },
  {
   "cell_type": "markdown",
   "metadata": {},
   "source": [
    "**[3.3]** Create a copy of `df` and save it into a variable called `df_cleaned`"
   ]
  },
  {
   "cell_type": "code",
   "execution_count": 12,
   "metadata": {},
   "outputs": [],
   "source": [
    "# Create a copy of `df` and save it into a variable called `df_cleaned`\n",
    "df_cleaned = df.copy()"
   ]
  },
  {
   "cell_type": "markdown",
   "metadata": {},
   "source": [
    "**[3.4]** Import `OneHotEncoder` from `sklearn.preprocessing`"
   ]
  },
  {
   "cell_type": "code",
   "execution_count": 31,
   "metadata": {},
   "outputs": [],
   "source": [
    "# Import OneHotEncoder from sklearn.preprocessing\n",
    "from sklearn.preprocessing import StandardScaler, OneHotEncoder"
   ]
  },
  {
   "cell_type": "markdown",
   "metadata": {},
   "source": [
    "**[3.5]** Instantiate a `OneHotEncoder` with `sparse=False` and `drop='first'` and save it to a variable called `ohe`"
   ]
  },
  {
   "cell_type": "code",
   "execution_count": 32,
   "metadata": {},
   "outputs": [],
   "source": [
    "# Instantiate a OneHotEncoder with sparse=False and drop='first' and save it to a variable called ohe\n",
    "ohe = OneHotEncoder(sparse=False, drop='first')"
   ]
  },
  {
   "cell_type": "markdown",
   "metadata": {},
   "source": [
    "**[3.6]** Fit and transform the `Gender` feature of `df_cleaned` and replace the data into it"
   ]
  },
  {
   "cell_type": "code",
   "execution_count": 33,
   "metadata": {},
   "outputs": [],
   "source": [
    "# Fit and transform the `Gender` feature of `df_cleaned` and replace the data into it\n",
    "df_cleaned['Gender'] = ohe.fit_transform(df_cleaned[['Gender']])"
   ]
  },
  {
   "cell_type": "markdown",
   "metadata": {},
   "source": [
    "**[3.7]** Import `split_sets_random`, `save_sets` from `src.data.sets`"
   ]
  },
  {
   "cell_type": "code",
   "execution_count": 34,
   "metadata": {},
   "outputs": [],
   "source": [
    "# Import split_sets_random, save_sets from src.data.sets\n",
    "from src.data.sets import split_sets_random, save_sets"
   ]
  },
  {
   "cell_type": "markdown",
   "metadata": {},
   "source": [
    "**[3.8]** Split the data intro training, validation and testing sets with 80-20 ratio"
   ]
  },
  {
   "cell_type": "code",
   "execution_count": 35,
   "metadata": {},
   "outputs": [],
   "source": [
    "# Split the data intro training, validation and testing sets with 80-20 ratio\n",
    "X_train, y_train, X_val, y_val, X_test, y_test = split_sets_random(df_cleaned, target_col='Spending Score (1-100)', test_ratio=0.2, to_numpy=False)"
   ]
  },
  {
   "cell_type": "markdown",
   "metadata": {},
   "source": [
    "**[3.9]** Save the sets into `data/processed` folder"
   ]
  },
  {
   "cell_type": "code",
   "execution_count": 36,
   "metadata": {},
   "outputs": [],
   "source": [
    "# Save the sets into data/processed folder\n",
    "save_sets(X_train, y_train, X_val, y_val, X_test, y_test, path='../data/processed/')"
   ]
  },
  {
   "cell_type": "markdown",
   "metadata": {},
   "source": [
    "# 4. Configure MLflow\n",
    "\n",
    "**[4.1]** Import mlflow and mlflow.sklearn"
   ]
  },
  {
   "cell_type": "code",
   "execution_count": 37,
   "metadata": {},
   "outputs": [],
   "source": [
    "# Import mlflow and mlflow.sklearn\n",
    "import mlflow\n",
    "import mlflow.sklearn"
   ]
  },
  {
   "cell_type": "markdown",
   "metadata": {},
   "source": [
    "**[4.2]** Set the MLflow Server URI to `http://mlflow:5000` using `.set_tracking_uri()`"
   ]
  },
  {
   "cell_type": "code",
   "execution_count": 38,
   "metadata": {},
   "outputs": [],
   "source": [
    "# Set the MLflow Server URI to http://mlflow:5000 using .set_tracking_uri()\n",
    "mlflow.set_tracking_uri('http://mlflow:5000')"
   ]
  },
  {
   "cell_type": "markdown",
   "metadata": {},
   "source": [
    "**[4.3]** Define `xgboost_spending` as the MLflow experiment to be used with `.set_experiment()`"
   ]
  },
  {
   "cell_type": "code",
   "execution_count": 39,
   "metadata": {},
   "outputs": [],
   "source": [
    "# Define xgboost_spending as the MLflow experiment to be used with .set_experiment()\n",
    "mlflow.set_experiment('xgboost_spending')"
   ]
  },
  {
   "cell_type": "markdown",
   "metadata": {},
   "source": [
    "**[4.4]** Start the tracking with Mlflow using `.start_run()`"
   ]
  },
  {
   "cell_type": "code",
   "execution_count": null,
   "metadata": {},
   "outputs": [],
   "source": [
    "# Start the tracking with Mlflow using .start_run()\n",
    "run = mlflow.start_run()"
   ]
  },
  {
   "cell_type": "markdown",
   "metadata": {},
   "source": [
    "### 5. Train RandomForest and log MLflow\n",
    "\n",
    "**[5.1]** Set a MLflow tag with `model.description` as key and `RandomForest with default hyperparameter` as value using `.set_tag()` "
   ]
  },
  {
   "cell_type": "code",
   "execution_count": 41,
   "metadata": {},
   "outputs": [],
   "source": [
    "# Set a MLflow tag with model.description as key and RandomForest with default hyperparameter as value using .set_tag()\n",
    "mlflow.set_tag(\"model.description\", \"RandomForest with default hyperparameter\")"
   ]
  },
  {
   "cell_type": "markdown",
   "metadata": {},
   "source": [
    "**[5.2]** Set a MLflow tag with `model.version` as key and `0.1` as value using `.set_tag()` "
   ]
  },
  {
   "cell_type": "code",
   "execution_count": 42,
   "metadata": {},
   "outputs": [],
   "source": [
    "# Set a MLflow tag with model.version as key and 0.1 as value using .set_tag()\n",
    "mlflow.set_tag(\"model.version\", \"0.1\")"
   ]
  },
  {
   "cell_type": "markdown",
   "metadata": {},
   "source": [
    "**[5.3]** Turn on automatic logging with sklearn"
   ]
  },
  {
   "cell_type": "code",
   "execution_count": 43,
   "metadata": {},
   "outputs": [],
   "source": [
    "# Turn on automatic logging with sklearn\n",
    "mlflow.sklearn.autolog()"
   ]
  },
  {
   "cell_type": "markdown",
   "metadata": {},
   "source": [
    "**[5.4]** Import `RandomForestRegressor` from `sklearn.ensemble` and instantiate it into a variable called `rf1` with `random_state=8`"
   ]
  },
  {
   "cell_type": "code",
   "execution_count": 44,
   "metadata": {},
   "outputs": [],
   "source": [
    "# Import RandomForestRegressor from sklearn.ensemble and instantiate it into a variable called rf1 with random_state=8\n",
    "from sklearn.ensemble import RandomForestRegressor\n",
    "\n",
    "rf1 = RandomForestRegressor(random_state=8)"
   ]
  },
  {
   "cell_type": "markdown",
   "metadata": {},
   "source": [
    "**[5.5]** Fit the model on the training set"
   ]
  },
  {
   "cell_type": "code",
   "execution_count": 45,
   "metadata": {},
   "outputs": [
    {
     "name": "stderr",
     "output_type": "stream",
     "text": [
      "2022/03/16 11:29:31 INFO mlflow.utils.autologging_utils: sklearn autologging will track hyperparameters, performance metrics, model artifacts, and lineage information for the current sklearn workflow to the MLflow run with ID 'a4fe66a9b3de413684fee714cf614728'\n",
      "2022/03/16 11:29:31 INFO mlflow.utils.autologging_utils: sklearn autologging will track hyperparameters, performance metrics, model artifacts, and lineage information for the current sklearn workflow to the MLflow run with ID 'a4fe66a9b3de413684fee714cf614728'\n",
      "2022/03/16 11:29:31 INFO mlflow.utils.autologging_utils: sklearn autologging will track hyperparameters, performance metrics, model artifacts, and lineage information for the current sklearn workflow to the MLflow run with ID 'a4fe66a9b3de413684fee714cf614728'\n",
      "2022/03/16 11:29:31 INFO mlflow.utils.autologging_utils: sklearn autologging will track hyperparameters, performance metrics, model artifacts, and lineage information for the current sklearn workflow to the MLflow run with ID 'a4fe66a9b3de413684fee714cf614728'\n",
      "2022/03/16 11:29:31 INFO mlflow.utils.autologging_utils: sklearn autologging will track hyperparameters, performance metrics, model artifacts, and lineage information for the current sklearn workflow to the MLflow run with ID 'a4fe66a9b3de413684fee714cf614728'\n",
      "2022/03/16 11:29:31 INFO mlflow.utils.autologging_utils: sklearn autologging will track hyperparameters, performance metrics, model artifacts, and lineage information for the current sklearn workflow to the MLflow run with ID 'a4fe66a9b3de413684fee714cf614728'\n",
      "2022/03/16 11:29:31 INFO mlflow.utils.autologging_utils: sklearn autologging will track hyperparameters, performance metrics, model artifacts, and lineage information for the current sklearn workflow to the MLflow run with ID 'a4fe66a9b3de413684fee714cf614728'\n",
      "2022/03/16 11:29:31 INFO mlflow.utils.autologging_utils: sklearn autologging will track hyperparameters, performance metrics, model artifacts, and lineage information for the current sklearn workflow to the MLflow run with ID 'a4fe66a9b3de413684fee714cf614728'\n",
      "2022/03/16 11:29:31 INFO mlflow.utils.autologging_utils: sklearn autologging will track hyperparameters, performance metrics, model artifacts, and lineage information for the current sklearn workflow to the MLflow run with ID 'a4fe66a9b3de413684fee714cf614728'\n",
      "2022/03/16 11:29:31 INFO mlflow.utils.autologging_utils: sklearn autologging will track hyperparameters, performance metrics, model artifacts, and lineage information for the current sklearn workflow to the MLflow run with ID 'a4fe66a9b3de413684fee714cf614728'\n",
      "2022/03/16 11:29:31 INFO mlflow.utils.autologging_utils: sklearn autologging will track hyperparameters, performance metrics, model artifacts, and lineage information for the current sklearn workflow to the MLflow run with ID 'a4fe66a9b3de413684fee714cf614728'\n",
      "2022/03/16 11:29:31 INFO mlflow.utils.autologging_utils: sklearn autologging will track hyperparameters, performance metrics, model artifacts, and lineage information for the current sklearn workflow to the MLflow run with ID 'a4fe66a9b3de413684fee714cf614728'\n",
      "2022/03/16 11:29:31 INFO mlflow.utils.autologging_utils: sklearn autologging will track hyperparameters, performance metrics, model artifacts, and lineage information for the current sklearn workflow to the MLflow run with ID 'a4fe66a9b3de413684fee714cf614728'\n",
      "2022/03/16 11:29:31 INFO mlflow.utils.autologging_utils: sklearn autologging will track hyperparameters, performance metrics, model artifacts, and lineage information for the current sklearn workflow to the MLflow run with ID 'a4fe66a9b3de413684fee714cf614728'\n",
      "2022/03/16 11:29:31 INFO mlflow.utils.autologging_utils: sklearn autologging will track hyperparameters, performance metrics, model artifacts, and lineage information for the current sklearn workflow to the MLflow run with ID 'a4fe66a9b3de413684fee714cf614728'\n",
      "2022/03/16 11:29:31 INFO mlflow.utils.autologging_utils: sklearn autologging will track hyperparameters, performance metrics, model artifacts, and lineage information for the current sklearn workflow to the MLflow run with ID 'a4fe66a9b3de413684fee714cf614728'\n",
      "2022/03/16 11:29:31 INFO mlflow.utils.autologging_utils: sklearn autologging will track hyperparameters, performance metrics, model artifacts, and lineage information for the current sklearn workflow to the MLflow run with ID 'a4fe66a9b3de413684fee714cf614728'\n",
      "2022/03/16 11:29:31 INFO mlflow.utils.autologging_utils: sklearn autologging will track hyperparameters, performance metrics, model artifacts, and lineage information for the current sklearn workflow to the MLflow run with ID 'a4fe66a9b3de413684fee714cf614728'\n",
      "2022/03/16 11:29:31 INFO mlflow.utils.autologging_utils: sklearn autologging will track hyperparameters, performance metrics, model artifacts, and lineage information for the current sklearn workflow to the MLflow run with ID 'a4fe66a9b3de413684fee714cf614728'\n",
      "2022/03/16 11:29:31 INFO mlflow.utils.autologging_utils: sklearn autologging will track hyperparameters, performance metrics, model artifacts, and lineage information for the current sklearn workflow to the MLflow run with ID 'a4fe66a9b3de413684fee714cf614728'\n",
      "2022/03/16 11:29:31 INFO mlflow.utils.autologging_utils: sklearn autologging will track hyperparameters, performance metrics, model artifacts, and lineage information for the current sklearn workflow to the MLflow run with ID 'a4fe66a9b3de413684fee714cf614728'\n",
      "2022/03/16 11:29:31 INFO mlflow.utils.autologging_utils: sklearn autologging will track hyperparameters, performance metrics, model artifacts, and lineage information for the current sklearn workflow to the MLflow run with ID 'a4fe66a9b3de413684fee714cf614728'\n",
      "2022/03/16 11:29:31 INFO mlflow.utils.autologging_utils: sklearn autologging will track hyperparameters, performance metrics, model artifacts, and lineage information for the current sklearn workflow to the MLflow run with ID 'a4fe66a9b3de413684fee714cf614728'\n",
      "2022/03/16 11:29:31 INFO mlflow.utils.autologging_utils: sklearn autologging will track hyperparameters, performance metrics, model artifacts, and lineage information for the current sklearn workflow to the MLflow run with ID 'a4fe66a9b3de413684fee714cf614728'\n",
      "2022/03/16 11:29:31 INFO mlflow.utils.autologging_utils: sklearn autologging will track hyperparameters, performance metrics, model artifacts, and lineage information for the current sklearn workflow to the MLflow run with ID 'a4fe66a9b3de413684fee714cf614728'\n",
      "2022/03/16 11:29:31 INFO mlflow.utils.autologging_utils: sklearn autologging will track hyperparameters, performance metrics, model artifacts, and lineage information for the current sklearn workflow to the MLflow run with ID 'a4fe66a9b3de413684fee714cf614728'\n",
      "2022/03/16 11:29:31 INFO mlflow.utils.autologging_utils: sklearn autologging will track hyperparameters, performance metrics, model artifacts, and lineage information for the current sklearn workflow to the MLflow run with ID 'a4fe66a9b3de413684fee714cf614728'\n",
      "2022/03/16 11:29:31 INFO mlflow.utils.autologging_utils: sklearn autologging will track hyperparameters, performance metrics, model artifacts, and lineage information for the current sklearn workflow to the MLflow run with ID 'a4fe66a9b3de413684fee714cf614728'\n",
      "2022/03/16 11:29:31 INFO mlflow.utils.autologging_utils: sklearn autologging will track hyperparameters, performance metrics, model artifacts, and lineage information for the current sklearn workflow to the MLflow run with ID 'a4fe66a9b3de413684fee714cf614728'\n",
      "2022/03/16 11:29:31 INFO mlflow.utils.autologging_utils: sklearn autologging will track hyperparameters, performance metrics, model artifacts, and lineage information for the current sklearn workflow to the MLflow run with ID 'a4fe66a9b3de413684fee714cf614728'\n",
      "2022/03/16 11:29:31 INFO mlflow.utils.autologging_utils: sklearn autologging will track hyperparameters, performance metrics, model artifacts, and lineage information for the current sklearn workflow to the MLflow run with ID 'a4fe66a9b3de413684fee714cf614728'\n",
      "2022/03/16 11:29:31 INFO mlflow.utils.autologging_utils: sklearn autologging will track hyperparameters, performance metrics, model artifacts, and lineage information for the current sklearn workflow to the MLflow run with ID 'a4fe66a9b3de413684fee714cf614728'\n",
      "2022/03/16 11:29:31 INFO mlflow.utils.autologging_utils: sklearn autologging will track hyperparameters, performance metrics, model artifacts, and lineage information for the current sklearn workflow to the MLflow run with ID 'a4fe66a9b3de413684fee714cf614728'\n",
      "2022/03/16 11:29:31 INFO mlflow.utils.autologging_utils: sklearn autologging will track hyperparameters, performance metrics, model artifacts, and lineage information for the current sklearn workflow to the MLflow run with ID 'a4fe66a9b3de413684fee714cf614728'\n",
      "2022/03/16 11:29:31 INFO mlflow.utils.autologging_utils: sklearn autologging will track hyperparameters, performance metrics, model artifacts, and lineage information for the current sklearn workflow to the MLflow run with ID 'a4fe66a9b3de413684fee714cf614728'\n",
      "2022/03/16 11:29:31 INFO mlflow.utils.autologging_utils: sklearn autologging will track hyperparameters, performance metrics, model artifacts, and lineage information for the current sklearn workflow to the MLflow run with ID 'a4fe66a9b3de413684fee714cf614728'\n",
      "2022/03/16 11:29:31 INFO mlflow.utils.autologging_utils: sklearn autologging will track hyperparameters, performance metrics, model artifacts, and lineage information for the current sklearn workflow to the MLflow run with ID 'a4fe66a9b3de413684fee714cf614728'\n",
      "2022/03/16 11:29:31 INFO mlflow.utils.autologging_utils: sklearn autologging will track hyperparameters, performance metrics, model artifacts, and lineage information for the current sklearn workflow to the MLflow run with ID 'a4fe66a9b3de413684fee714cf614728'\n",
      "2022/03/16 11:29:31 INFO mlflow.utils.autologging_utils: sklearn autologging will track hyperparameters, performance metrics, model artifacts, and lineage information for the current sklearn workflow to the MLflow run with ID 'a4fe66a9b3de413684fee714cf614728'\n",
      "2022/03/16 11:29:31 INFO mlflow.utils.autologging_utils: sklearn autologging will track hyperparameters, performance metrics, model artifacts, and lineage information for the current sklearn workflow to the MLflow run with ID 'a4fe66a9b3de413684fee714cf614728'\n",
      "2022/03/16 11:29:31 INFO mlflow.utils.autologging_utils: sklearn autologging will track hyperparameters, performance metrics, model artifacts, and lineage information for the current sklearn workflow to the MLflow run with ID 'a4fe66a9b3de413684fee714cf614728'\n",
      "2022/03/16 11:29:31 INFO mlflow.utils.autologging_utils: sklearn autologging will track hyperparameters, performance metrics, model artifacts, and lineage information for the current sklearn workflow to the MLflow run with ID 'a4fe66a9b3de413684fee714cf614728'\n",
      "2022/03/16 11:29:31 INFO mlflow.utils.autologging_utils: sklearn autologging will track hyperparameters, performance metrics, model artifacts, and lineage information for the current sklearn workflow to the MLflow run with ID 'a4fe66a9b3de413684fee714cf614728'\n",
      "2022/03/16 11:29:31 INFO mlflow.utils.autologging_utils: sklearn autologging will track hyperparameters, performance metrics, model artifacts, and lineage information for the current sklearn workflow to the MLflow run with ID 'a4fe66a9b3de413684fee714cf614728'\n",
      "2022/03/16 11:29:31 INFO mlflow.utils.autologging_utils: sklearn autologging will track hyperparameters, performance metrics, model artifacts, and lineage information for the current sklearn workflow to the MLflow run with ID 'a4fe66a9b3de413684fee714cf614728'\n",
      "2022/03/16 11:29:31 INFO mlflow.utils.autologging_utils: sklearn autologging will track hyperparameters, performance metrics, model artifacts, and lineage information for the current sklearn workflow to the MLflow run with ID 'a4fe66a9b3de413684fee714cf614728'\n",
      "2022/03/16 11:29:31 INFO mlflow.utils.autologging_utils: sklearn autologging will track hyperparameters, performance metrics, model artifacts, and lineage information for the current sklearn workflow to the MLflow run with ID 'a4fe66a9b3de413684fee714cf614728'\n",
      "2022/03/16 11:29:31 INFO mlflow.utils.autologging_utils: sklearn autologging will track hyperparameters, performance metrics, model artifacts, and lineage information for the current sklearn workflow to the MLflow run with ID 'a4fe66a9b3de413684fee714cf614728'\n",
      "2022/03/16 11:29:31 INFO mlflow.utils.autologging_utils: sklearn autologging will track hyperparameters, performance metrics, model artifacts, and lineage information for the current sklearn workflow to the MLflow run with ID 'a4fe66a9b3de413684fee714cf614728'\n",
      "2022/03/16 11:29:31 INFO mlflow.utils.autologging_utils: sklearn autologging will track hyperparameters, performance metrics, model artifacts, and lineage information for the current sklearn workflow to the MLflow run with ID 'a4fe66a9b3de413684fee714cf614728'\n",
      "2022/03/16 11:29:31 INFO mlflow.utils.autologging_utils: sklearn autologging will track hyperparameters, performance metrics, model artifacts, and lineage information for the current sklearn workflow to the MLflow run with ID 'a4fe66a9b3de413684fee714cf614728'\n",
      "2022/03/16 11:29:31 INFO mlflow.utils.autologging_utils: sklearn autologging will track hyperparameters, performance metrics, model artifacts, and lineage information for the current sklearn workflow to the MLflow run with ID 'a4fe66a9b3de413684fee714cf614728'\n",
      "2022/03/16 11:29:31 INFO mlflow.utils.autologging_utils: sklearn autologging will track hyperparameters, performance metrics, model artifacts, and lineage information for the current sklearn workflow to the MLflow run with ID 'a4fe66a9b3de413684fee714cf614728'\n",
      "2022/03/16 11:29:31 INFO mlflow.utils.autologging_utils: sklearn autologging will track hyperparameters, performance metrics, model artifacts, and lineage information for the current sklearn workflow to the MLflow run with ID 'a4fe66a9b3de413684fee714cf614728'\n",
      "2022/03/16 11:29:31 INFO mlflow.utils.autologging_utils: sklearn autologging will track hyperparameters, performance metrics, model artifacts, and lineage information for the current sklearn workflow to the MLflow run with ID 'a4fe66a9b3de413684fee714cf614728'\n",
      "2022/03/16 11:29:31 INFO mlflow.utils.autologging_utils: sklearn autologging will track hyperparameters, performance metrics, model artifacts, and lineage information for the current sklearn workflow to the MLflow run with ID 'a4fe66a9b3de413684fee714cf614728'\n",
      "2022/03/16 11:29:31 INFO mlflow.utils.autologging_utils: sklearn autologging will track hyperparameters, performance metrics, model artifacts, and lineage information for the current sklearn workflow to the MLflow run with ID 'a4fe66a9b3de413684fee714cf614728'\n",
      "2022/03/16 11:29:31 INFO mlflow.utils.autologging_utils: sklearn autologging will track hyperparameters, performance metrics, model artifacts, and lineage information for the current sklearn workflow to the MLflow run with ID 'a4fe66a9b3de413684fee714cf614728'\n",
      "2022/03/16 11:29:31 INFO mlflow.utils.autologging_utils: sklearn autologging will track hyperparameters, performance metrics, model artifacts, and lineage information for the current sklearn workflow to the MLflow run with ID 'a4fe66a9b3de413684fee714cf614728'\n",
      "2022/03/16 11:29:31 INFO mlflow.utils.autologging_utils: sklearn autologging will track hyperparameters, performance metrics, model artifacts, and lineage information for the current sklearn workflow to the MLflow run with ID 'a4fe66a9b3de413684fee714cf614728'\n",
      "2022/03/16 11:29:31 INFO mlflow.utils.autologging_utils: sklearn autologging will track hyperparameters, performance metrics, model artifacts, and lineage information for the current sklearn workflow to the MLflow run with ID 'a4fe66a9b3de413684fee714cf614728'\n",
      "2022/03/16 11:29:31 INFO mlflow.utils.autologging_utils: sklearn autologging will track hyperparameters, performance metrics, model artifacts, and lineage information for the current sklearn workflow to the MLflow run with ID 'a4fe66a9b3de413684fee714cf614728'\n",
      "2022/03/16 11:29:31 INFO mlflow.utils.autologging_utils: sklearn autologging will track hyperparameters, performance metrics, model artifacts, and lineage information for the current sklearn workflow to the MLflow run with ID 'a4fe66a9b3de413684fee714cf614728'\n",
      "2022/03/16 11:29:31 INFO mlflow.utils.autologging_utils: sklearn autologging will track hyperparameters, performance metrics, model artifacts, and lineage information for the current sklearn workflow to the MLflow run with ID 'a4fe66a9b3de413684fee714cf614728'\n",
      "2022/03/16 11:29:31 INFO mlflow.utils.autologging_utils: sklearn autologging will track hyperparameters, performance metrics, model artifacts, and lineage information for the current sklearn workflow to the MLflow run with ID 'a4fe66a9b3de413684fee714cf614728'\n",
      "2022/03/16 11:29:31 INFO mlflow.utils.autologging_utils: sklearn autologging will track hyperparameters, performance metrics, model artifacts, and lineage information for the current sklearn workflow to the MLflow run with ID 'a4fe66a9b3de413684fee714cf614728'\n",
      "2022/03/16 11:29:31 INFO mlflow.utils.autologging_utils: sklearn autologging will track hyperparameters, performance metrics, model artifacts, and lineage information for the current sklearn workflow to the MLflow run with ID 'a4fe66a9b3de413684fee714cf614728'\n",
      "2022/03/16 11:29:31 INFO mlflow.utils.autologging_utils: sklearn autologging will track hyperparameters, performance metrics, model artifacts, and lineage information for the current sklearn workflow to the MLflow run with ID 'a4fe66a9b3de413684fee714cf614728'\n",
      "2022/03/16 11:29:31 INFO mlflow.utils.autologging_utils: sklearn autologging will track hyperparameters, performance metrics, model artifacts, and lineage information for the current sklearn workflow to the MLflow run with ID 'a4fe66a9b3de413684fee714cf614728'\n",
      "2022/03/16 11:29:31 INFO mlflow.utils.autologging_utils: sklearn autologging will track hyperparameters, performance metrics, model artifacts, and lineage information for the current sklearn workflow to the MLflow run with ID 'a4fe66a9b3de413684fee714cf614728'\n",
      "2022/03/16 11:29:31 INFO mlflow.utils.autologging_utils: sklearn autologging will track hyperparameters, performance metrics, model artifacts, and lineage information for the current sklearn workflow to the MLflow run with ID 'a4fe66a9b3de413684fee714cf614728'\n",
      "2022/03/16 11:29:31 INFO mlflow.utils.autologging_utils: sklearn autologging will track hyperparameters, performance metrics, model artifacts, and lineage information for the current sklearn workflow to the MLflow run with ID 'a4fe66a9b3de413684fee714cf614728'\n",
      "2022/03/16 11:29:31 INFO mlflow.utils.autologging_utils: sklearn autologging will track hyperparameters, performance metrics, model artifacts, and lineage information for the current sklearn workflow to the MLflow run with ID 'a4fe66a9b3de413684fee714cf614728'\n",
      "2022/03/16 11:29:31 INFO mlflow.utils.autologging_utils: sklearn autologging will track hyperparameters, performance metrics, model artifacts, and lineage information for the current sklearn workflow to the MLflow run with ID 'a4fe66a9b3de413684fee714cf614728'\n",
      "2022/03/16 11:29:31 INFO mlflow.utils.autologging_utils: sklearn autologging will track hyperparameters, performance metrics, model artifacts, and lineage information for the current sklearn workflow to the MLflow run with ID 'a4fe66a9b3de413684fee714cf614728'\n",
      "2022/03/16 11:29:31 INFO mlflow.utils.autologging_utils: sklearn autologging will track hyperparameters, performance metrics, model artifacts, and lineage information for the current sklearn workflow to the MLflow run with ID 'a4fe66a9b3de413684fee714cf614728'\n",
      "2022/03/16 11:29:31 INFO mlflow.utils.autologging_utils: sklearn autologging will track hyperparameters, performance metrics, model artifacts, and lineage information for the current sklearn workflow to the MLflow run with ID 'a4fe66a9b3de413684fee714cf614728'\n",
      "2022/03/16 11:29:31 INFO mlflow.utils.autologging_utils: sklearn autologging will track hyperparameters, performance metrics, model artifacts, and lineage information for the current sklearn workflow to the MLflow run with ID 'a4fe66a9b3de413684fee714cf614728'\n",
      "2022/03/16 11:29:31 INFO mlflow.utils.autologging_utils: sklearn autologging will track hyperparameters, performance metrics, model artifacts, and lineage information for the current sklearn workflow to the MLflow run with ID 'a4fe66a9b3de413684fee714cf614728'\n",
      "2022/03/16 11:29:31 INFO mlflow.utils.autologging_utils: sklearn autologging will track hyperparameters, performance metrics, model artifacts, and lineage information for the current sklearn workflow to the MLflow run with ID 'a4fe66a9b3de413684fee714cf614728'\n",
      "2022/03/16 11:29:31 INFO mlflow.utils.autologging_utils: sklearn autologging will track hyperparameters, performance metrics, model artifacts, and lineage information for the current sklearn workflow to the MLflow run with ID 'a4fe66a9b3de413684fee714cf614728'\n",
      "2022/03/16 11:29:31 INFO mlflow.utils.autologging_utils: sklearn autologging will track hyperparameters, performance metrics, model artifacts, and lineage information for the current sklearn workflow to the MLflow run with ID 'a4fe66a9b3de413684fee714cf614728'\n",
      "2022/03/16 11:29:31 INFO mlflow.utils.autologging_utils: sklearn autologging will track hyperparameters, performance metrics, model artifacts, and lineage information for the current sklearn workflow to the MLflow run with ID 'a4fe66a9b3de413684fee714cf614728'\n",
      "2022/03/16 11:29:31 INFO mlflow.utils.autologging_utils: sklearn autologging will track hyperparameters, performance metrics, model artifacts, and lineage information for the current sklearn workflow to the MLflow run with ID 'a4fe66a9b3de413684fee714cf614728'\n",
      "2022/03/16 11:29:31 INFO mlflow.utils.autologging_utils: sklearn autologging will track hyperparameters, performance metrics, model artifacts, and lineage information for the current sklearn workflow to the MLflow run with ID 'a4fe66a9b3de413684fee714cf614728'\n",
      "2022/03/16 11:29:31 INFO mlflow.utils.autologging_utils: sklearn autologging will track hyperparameters, performance metrics, model artifacts, and lineage information for the current sklearn workflow to the MLflow run with ID 'a4fe66a9b3de413684fee714cf614728'\n",
      "2022/03/16 11:29:31 INFO mlflow.utils.autologging_utils: sklearn autologging will track hyperparameters, performance metrics, model artifacts, and lineage information for the current sklearn workflow to the MLflow run with ID 'a4fe66a9b3de413684fee714cf614728'\n",
      "2022/03/16 11:29:31 INFO mlflow.utils.autologging_utils: sklearn autologging will track hyperparameters, performance metrics, model artifacts, and lineage information for the current sklearn workflow to the MLflow run with ID 'a4fe66a9b3de413684fee714cf614728'\n",
      "2022/03/16 11:29:31 INFO mlflow.utils.autologging_utils: sklearn autologging will track hyperparameters, performance metrics, model artifacts, and lineage information for the current sklearn workflow to the MLflow run with ID 'a4fe66a9b3de413684fee714cf614728'\n",
      "2022/03/16 11:29:31 INFO mlflow.utils.autologging_utils: sklearn autologging will track hyperparameters, performance metrics, model artifacts, and lineage information for the current sklearn workflow to the MLflow run with ID 'a4fe66a9b3de413684fee714cf614728'\n",
      "2022/03/16 11:29:31 INFO mlflow.utils.autologging_utils: sklearn autologging will track hyperparameters, performance metrics, model artifacts, and lineage information for the current sklearn workflow to the MLflow run with ID 'a4fe66a9b3de413684fee714cf614728'\n",
      "2022/03/16 11:29:31 INFO mlflow.utils.autologging_utils: sklearn autologging will track hyperparameters, performance metrics, model artifacts, and lineage information for the current sklearn workflow to the MLflow run with ID 'a4fe66a9b3de413684fee714cf614728'\n",
      "2022/03/16 11:29:31 INFO mlflow.utils.autologging_utils: sklearn autologging will track hyperparameters, performance metrics, model artifacts, and lineage information for the current sklearn workflow to the MLflow run with ID 'a4fe66a9b3de413684fee714cf614728'\n",
      "2022/03/16 11:29:31 INFO mlflow.utils.autologging_utils: sklearn autologging will track hyperparameters, performance metrics, model artifacts, and lineage information for the current sklearn workflow to the MLflow run with ID 'a4fe66a9b3de413684fee714cf614728'\n",
      "2022/03/16 11:29:31 INFO mlflow.utils.autologging_utils: sklearn autologging will track hyperparameters, performance metrics, model artifacts, and lineage information for the current sklearn workflow to the MLflow run with ID 'a4fe66a9b3de413684fee714cf614728'\n",
      "2022/03/16 11:29:31 INFO mlflow.utils.autologging_utils: sklearn autologging will track hyperparameters, performance metrics, model artifacts, and lineage information for the current sklearn workflow to the MLflow run with ID 'a4fe66a9b3de413684fee714cf614728'\n",
      "2022/03/16 11:29:31 INFO mlflow.utils.autologging_utils: sklearn autologging will track hyperparameters, performance metrics, model artifacts, and lineage information for the current sklearn workflow to the MLflow run with ID 'a4fe66a9b3de413684fee714cf614728'\n",
      "2022/03/16 11:29:31 INFO mlflow.utils.autologging_utils: sklearn autologging will track hyperparameters, performance metrics, model artifacts, and lineage information for the current sklearn workflow to the MLflow run with ID 'a4fe66a9b3de413684fee714cf614728'\n",
      "2022/03/16 11:29:31 INFO mlflow.utils.autologging_utils: sklearn autologging will track hyperparameters, performance metrics, model artifacts, and lineage information for the current sklearn workflow to the MLflow run with ID 'a4fe66a9b3de413684fee714cf614728'\n",
      "2022/03/16 11:29:31 INFO mlflow.utils.autologging_utils: sklearn autologging will track hyperparameters, performance metrics, model artifacts, and lineage information for the current sklearn workflow to the MLflow run with ID 'a4fe66a9b3de413684fee714cf614728'\n",
      "2022/03/16 11:29:31 INFO mlflow.utils.autologging_utils: sklearn autologging will track hyperparameters, performance metrics, model artifacts, and lineage information for the current sklearn workflow to the MLflow run with ID 'a4fe66a9b3de413684fee714cf614728'\n",
      "2022/03/16 11:29:32 WARNING mlflow.utils.autologging_utils: MLflow issued a warning during sklearn autologging: \"/opt/conda/lib/python3.7/site-packages/mlflow/models/signature.py:123: UserWarning: Hint: Inferred schema contains integer column(s). Integer columns in Python cannot represent missing values. If your input data contains missing values at inference time, it will be encoded as floats and will cause a schema enforcement error. The best way to avoid this problem is to infer the model schema based on a realistic data sample (training dataset) that includes missing values. Alternatively, you can declare integer columns as doubles (float64) whenever these columns may have missing values. See `Handling Integers With Missing Values <https://www.mlflow.org/docs/latest/models.html#handling-integers-with-missing-values>`_ for more details.\"\n"
     ]
    },
    {
     "data": {
      "text/plain": [
       "RandomForestRegressor(bootstrap=True, ccp_alpha=0.0, criterion='mse',\n",
       "                      max_depth=None, max_features='auto', max_leaf_nodes=None,\n",
       "                      max_samples=None, min_impurity_decrease=0.0,\n",
       "                      min_impurity_split=None, min_samples_leaf=1,\n",
       "                      min_samples_split=2, min_weight_fraction_leaf=0.0,\n",
       "                      n_estimators=100, n_jobs=None, oob_score=False,\n",
       "                      random_state=8, verbose=0, warm_start=False)"
      ]
     },
     "execution_count": 45,
     "metadata": {},
     "output_type": "execute_result"
    }
   ],
   "source": [
    "# Fit the model on the training set\n",
    "rf1.fit(X_train, y_train)"
   ]
  },
  {
   "cell_type": "markdown",
   "metadata": {},
   "source": [
    "**[5.6]** Import `infer_signature` from `mlflow.models.signature`"
   ]
  },
  {
   "cell_type": "code",
   "execution_count": 46,
   "metadata": {},
   "outputs": [],
   "source": [
    "# Import infer_signature from mlflow.models.signature\n",
    "from mlflow.models.signature import infer_signature"
   ]
  },
  {
   "cell_type": "markdown",
   "metadata": {},
   "source": [
    "**[5.7]** Apply `infer_signature()` on the training set and save the results on a variable called `signature` "
   ]
  },
  {
   "cell_type": "code",
   "execution_count": 47,
   "metadata": {},
   "outputs": [
    {
     "name": "stderr",
     "output_type": "stream",
     "text": [
      "/opt/conda/lib/python3.7/site-packages/mlflow/models/signature.py:124: UserWarning: Hint: Inferred schema contains integer column(s). Integer columns in Python cannot represent missing values. If your input data contains missing values at inference time, it will be encoded as floats and will cause a schema enforcement error. The best way to avoid this problem is to infer the model schema based on a realistic data sample (training dataset) that includes missing values. Alternatively, you can declare integer columns as doubles (float64) whenever these columns may have missing values. See `Handling Integers With Missing Values <https://www.mlflow.org/docs/latest/models.html#handling-integers-with-missing-values>`_ for more details.\n",
      "  outputs = _infer_schema(model_output) if model_output is not None else None\n"
     ]
    }
   ],
   "source": [
    "# Apply infer_signature() on the training set and save the results on a variable called signature\n",
    "signature = infer_signature(X_train, y_train)"
   ]
  },
  {
   "cell_type": "markdown",
   "metadata": {},
   "source": [
    "**[5.8]** Log the trained model with its signature to the path `model` and `sklearn-rf-spending` as name "
   ]
  },
  {
   "cell_type": "code",
   "execution_count": 48,
   "metadata": {},
   "outputs": [
    {
     "name": "stderr",
     "output_type": "stream",
     "text": [
      "Successfully registered model 'sklearn-rf-spending'.\n",
      "2022/03/16 11:31:02 INFO mlflow.tracking._model_registry.client: Waiting up to 300 seconds for model version to finish creation.                     Model name: sklearn-rf-spending, version 1\n",
      "Created version '1' of model 'sklearn-rf-spending'.\n"
     ]
    }
   ],
   "source": [
    "mlflow.sklearn.log_model(rf1, artifact_path=\"model\", signature=signature, registered_model_name=\"sklearn-rf-spending\") "
   ]
  },
  {
   "cell_type": "markdown",
   "metadata": {},
   "source": [
    "**[5.9]** Close the MLflow experiment run \n"
   ]
  },
  {
   "cell_type": "code",
   "execution_count": 49,
   "metadata": {},
   "outputs": [],
   "source": [
    "# Solution\n",
    "mlflow.end_run()"
   ]
  },
  {
   "cell_type": "markdown",
   "metadata": {},
   "source": [
    "**[5.10]** Open and browser and navigate to http://127.0.0.1:5000/#/\n",
    "\n",
    "**[5.11]** Navigate into `xgboost_spending` and select the experiment run\n",
    "\n",
    "### 6.   Push changes\n",
    "\n",
    "**[6.1]** Add your changes to git staging area"
   ]
  },
  {
   "cell_type": "code",
   "execution_count": null,
   "metadata": {},
   "outputs": [],
   "source": [
    "\"\"\"\n",
    "# Add you changes to git staging area\n",
    "git add .\n",
    "\n",
    "# Create the snapshot of your repository and add a description\n",
    "git commit -m \"randomforest default\"\n",
    "\n",
    "# Push your snapshot to Github\n",
    "git push\n",
    "\n",
    "# Check out to the master branch\n",
    "git checkout master\n",
    "\n",
    "# Pull the latest updates\n",
    "git pull\n",
    "\n",
    "# Check out to the xgboost_spending branch\n",
    "git checkout xgboost_spending\n",
    "\n",
    "# Merge the master branch and push your changes\n",
    "git merge master\n",
    "git push\n",
    "\"\"\""
   ]
  },
  {
   "cell_type": "markdown",
   "metadata": {},
   "source": [
    "**[6.9]** Stop the Docker container"
   ]
  },
  {
   "cell_type": "code",
   "execution_count": null,
   "metadata": {},
   "outputs": [],
   "source": [
    "# docker-compose down"
   ]
  }
 ],
 "metadata": {
  "kernelspec": {
   "display_name": "Python 3",
   "language": "python",
   "name": "python3"
  },
  "language_info": {
   "codemirror_mode": {
    "name": "ipython",
    "version": 3
   },
   "file_extension": ".py",
   "mimetype": "text/x-python",
   "name": "python",
   "nbconvert_exporter": "python",
   "pygments_lexer": "ipython3",
   "version": "3.7.6"
  }
 },
 "nbformat": 4,
 "nbformat_minor": 4
}
