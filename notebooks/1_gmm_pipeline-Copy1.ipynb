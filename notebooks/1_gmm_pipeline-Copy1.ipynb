{
 "cells": [
  {
   "cell_type": "code",
   "execution_count": 1,
   "metadata": {},
   "outputs": [],
   "source": [
    "### 2.   Load and Explore Dataset\n",
    "\n",
    "## **[2.1]** Import the pandas and numpy packages\n",
    "\n",
    "import pandas as pd\n",
    "import numpy as np"
   ]
  },
  {
   "cell_type": "code",
   "execution_count": 3,
   "metadata": {},
   "outputs": [
    {
     "data": {
      "text/html": [
       "<div>\n",
       "<style scoped>\n",
       "    .dataframe tbody tr th:only-of-type {\n",
       "        vertical-align: middle;\n",
       "    }\n",
       "\n",
       "    .dataframe tbody tr th {\n",
       "        vertical-align: top;\n",
       "    }\n",
       "\n",
       "    .dataframe thead th {\n",
       "        text-align: right;\n",
       "    }\n",
       "</style>\n",
       "<table border=\"1\" class=\"dataframe\">\n",
       "  <thead>\n",
       "    <tr style=\"text-align: right;\">\n",
       "      <th></th>\n",
       "      <th>CustomerID</th>\n",
       "      <th>Gender</th>\n",
       "      <th>Age</th>\n",
       "      <th>Annual Income (k$)</th>\n",
       "      <th>Spending Score (1-100)</th>\n",
       "    </tr>\n",
       "  </thead>\n",
       "  <tbody>\n",
       "    <tr>\n",
       "      <th>0</th>\n",
       "      <td>1</td>\n",
       "      <td>Male</td>\n",
       "      <td>19</td>\n",
       "      <td>15</td>\n",
       "      <td>39</td>\n",
       "    </tr>\n",
       "    <tr>\n",
       "      <th>1</th>\n",
       "      <td>2</td>\n",
       "      <td>Male</td>\n",
       "      <td>21</td>\n",
       "      <td>15</td>\n",
       "      <td>81</td>\n",
       "    </tr>\n",
       "    <tr>\n",
       "      <th>2</th>\n",
       "      <td>3</td>\n",
       "      <td>Female</td>\n",
       "      <td>20</td>\n",
       "      <td>16</td>\n",
       "      <td>6</td>\n",
       "    </tr>\n",
       "    <tr>\n",
       "      <th>3</th>\n",
       "      <td>4</td>\n",
       "      <td>Female</td>\n",
       "      <td>23</td>\n",
       "      <td>16</td>\n",
       "      <td>77</td>\n",
       "    </tr>\n",
       "    <tr>\n",
       "      <th>4</th>\n",
       "      <td>5</td>\n",
       "      <td>Female</td>\n",
       "      <td>31</td>\n",
       "      <td>17</td>\n",
       "      <td>40</td>\n",
       "    </tr>\n",
       "  </tbody>\n",
       "</table>\n",
       "</div>"
      ],
      "text/plain": [
       "   CustomerID  Gender  Age  Annual Income (k$)  Spending Score (1-100)\n",
       "0           1    Male   19                  15                      39\n",
       "1           2    Male   21                  15                      81\n",
       "2           3  Female   20                  16                       6\n",
       "3           4  Female   23                  16                      77\n",
       "4           5  Female   31                  17                      40"
      ]
     },
     "execution_count": 3,
     "metadata": {},
     "output_type": "execute_result"
    }
   ],
   "source": [
    "# **[2.4]** Create a variable called `file_url` containing th url to the raw dataset\n",
    "\n",
    "file_url = 'https://raw.githubusercontent.com/AGilarde12/Mall-Customer-Segmentation/master/Data/Mall_Customers.csv'\n",
    "\n",
    "# **[2.5]** Load the data in a dataframe called `df`\n",
    "df = pd.read_csv(file_url)\n",
    "df.head()"
   ]
  },
  {
   "cell_type": "code",
   "execution_count": 4,
   "metadata": {},
   "outputs": [
    {
     "data": {
      "text/plain": [
       "(200, 5)"
      ]
     },
     "execution_count": 4,
     "metadata": {},
     "output_type": "execute_result"
    }
   ],
   "source": [
    "# **[2.7]** Display the dimensions (shape) of df\n",
    "df.shape"
   ]
  },
  {
   "cell_type": "code",
   "execution_count": 5,
   "metadata": {},
   "outputs": [
    {
     "name": "stdout",
     "output_type": "stream",
     "text": [
      "<class 'pandas.core.frame.DataFrame'>\n",
      "RangeIndex: 200 entries, 0 to 199\n",
      "Data columns (total 5 columns):\n",
      "CustomerID                200 non-null int64\n",
      "Gender                    200 non-null object\n",
      "Age                       200 non-null int64\n",
      "Annual Income (k$)        200 non-null int64\n",
      "Spending Score (1-100)    200 non-null int64\n",
      "dtypes: int64(4), object(1)\n",
      "memory usage: 7.9+ KB\n"
     ]
    }
   ],
   "source": [
    "# **[2.8]** Display the summary (info) of df\n",
    "df.info()"
   ]
  },
  {
   "cell_type": "code",
   "execution_count": 6,
   "metadata": {},
   "outputs": [
    {
     "data": {
      "text/html": [
       "<div>\n",
       "<style scoped>\n",
       "    .dataframe tbody tr th:only-of-type {\n",
       "        vertical-align: middle;\n",
       "    }\n",
       "\n",
       "    .dataframe tbody tr th {\n",
       "        vertical-align: top;\n",
       "    }\n",
       "\n",
       "    .dataframe thead th {\n",
       "        text-align: right;\n",
       "    }\n",
       "</style>\n",
       "<table border=\"1\" class=\"dataframe\">\n",
       "  <thead>\n",
       "    <tr style=\"text-align: right;\">\n",
       "      <th></th>\n",
       "      <th>CustomerID</th>\n",
       "      <th>Age</th>\n",
       "      <th>Annual Income (k$)</th>\n",
       "      <th>Spending Score (1-100)</th>\n",
       "    </tr>\n",
       "  </thead>\n",
       "  <tbody>\n",
       "    <tr>\n",
       "      <th>count</th>\n",
       "      <td>200.000000</td>\n",
       "      <td>200.000000</td>\n",
       "      <td>200.000000</td>\n",
       "      <td>200.000000</td>\n",
       "    </tr>\n",
       "    <tr>\n",
       "      <th>mean</th>\n",
       "      <td>100.500000</td>\n",
       "      <td>38.850000</td>\n",
       "      <td>60.560000</td>\n",
       "      <td>50.200000</td>\n",
       "    </tr>\n",
       "    <tr>\n",
       "      <th>std</th>\n",
       "      <td>57.879185</td>\n",
       "      <td>13.969007</td>\n",
       "      <td>26.264721</td>\n",
       "      <td>25.823522</td>\n",
       "    </tr>\n",
       "    <tr>\n",
       "      <th>min</th>\n",
       "      <td>1.000000</td>\n",
       "      <td>18.000000</td>\n",
       "      <td>15.000000</td>\n",
       "      <td>1.000000</td>\n",
       "    </tr>\n",
       "    <tr>\n",
       "      <th>25%</th>\n",
       "      <td>50.750000</td>\n",
       "      <td>28.750000</td>\n",
       "      <td>41.500000</td>\n",
       "      <td>34.750000</td>\n",
       "    </tr>\n",
       "    <tr>\n",
       "      <th>50%</th>\n",
       "      <td>100.500000</td>\n",
       "      <td>36.000000</td>\n",
       "      <td>61.500000</td>\n",
       "      <td>50.000000</td>\n",
       "    </tr>\n",
       "    <tr>\n",
       "      <th>75%</th>\n",
       "      <td>150.250000</td>\n",
       "      <td>49.000000</td>\n",
       "      <td>78.000000</td>\n",
       "      <td>73.000000</td>\n",
       "    </tr>\n",
       "    <tr>\n",
       "      <th>max</th>\n",
       "      <td>200.000000</td>\n",
       "      <td>70.000000</td>\n",
       "      <td>137.000000</td>\n",
       "      <td>99.000000</td>\n",
       "    </tr>\n",
       "  </tbody>\n",
       "</table>\n",
       "</div>"
      ],
      "text/plain": [
       "       CustomerID         Age  Annual Income (k$)  Spending Score (1-100)\n",
       "count  200.000000  200.000000          200.000000              200.000000\n",
       "mean   100.500000   38.850000           60.560000               50.200000\n",
       "std     57.879185   13.969007           26.264721               25.823522\n",
       "min      1.000000   18.000000           15.000000                1.000000\n",
       "25%     50.750000   28.750000           41.500000               34.750000\n",
       "50%    100.500000   36.000000           61.500000               50.000000\n",
       "75%    150.250000   49.000000           78.000000               73.000000\n",
       "max    200.000000   70.000000          137.000000               99.000000"
      ]
     },
     "execution_count": 6,
     "metadata": {},
     "output_type": "execute_result"
    }
   ],
   "source": [
    "# **[2.9]** Display the descriptive statistics of df\n",
    "df.describe()"
   ]
  },
  {
   "cell_type": "code",
   "execution_count": 7,
   "metadata": {},
   "outputs": [],
   "source": [
    "# **[2.10]** Save the dataframe locally in the `data/raw` folder\n",
    "df.to_csv('../data/raw/Mall_Customers.csv', index=False)"
   ]
  },
  {
   "cell_type": "code",
   "execution_count": 8,
   "metadata": {},
   "outputs": [],
   "source": [
    "# **[3.1]** Create a copy of `df` and save it into a variable called `df_cleaned`\n",
    "df_cleaned = df.copy()"
   ]
  },
  {
   "cell_type": "code",
   "execution_count": 9,
   "metadata": {},
   "outputs": [],
   "source": [
    "# **[3.2]** Drop the column `CustomerID` from the dataframe and save it into the `data/interim` folder\n",
    "df_cleaned.drop('CustomerID', axis=1, inplace=True)\n",
    "df_cleaned.to_csv('../data/interim/Mall_Customers.csv', index=False)"
   ]
  },
  {
   "cell_type": "code",
   "execution_count": 10,
   "metadata": {},
   "outputs": [],
   "source": [
    "# **[3.3]** Import `train_test_split` from `sklearn.model_selection`\n",
    "from sklearn.model_selection import train_test_split\n",
    "\n",
    "# **[3.4]** Split the data into training and testing sets with 80-20 ratio\n",
    "X_train, X_test = train_test_split(df_cleaned, test_size=0.2, random_state=8)"
   ]
  },
  {
   "cell_type": "code",
   "execution_count": 11,
   "metadata": {},
   "outputs": [],
   "source": [
    "# **[3.5]** Create a copy of `X_train` and save it into a variable called `X_train_cleaned`\n",
    "X_train_cleaned = X_train.copy()"
   ]
  },
  {
   "cell_type": "code",
   "execution_count": 12,
   "metadata": {},
   "outputs": [],
   "source": [
    "# **[3.6]** Import `StandardScaler` and `OneHotEncoder` from `sklearn.preprocessing`\n",
    "from sklearn.preprocessing import StandardScaler, OneHotEncoder\n",
    "\n",
    "# **[3.7]** Create a list called `num_cols` that contains `Age`, `Annual Income (k$)` and `Spending Score (1-100)`\n",
    "num_cols = ['Age', 'Annual Income (k$)', 'Spending Score (1-100)']\n",
    "\n",
    "# **[3.8]** Instantiate a `StandardScaler` and called it `sc`\n",
    "sc = StandardScaler()\n",
    "\n",
    "# **[3.9]** Fit and transform the numeric feature of `X_train_cleaned` and replace the data into it\n",
    "X_train_cleaned[num_cols] = sc.fit_transform(X_train_cleaned[num_cols])"
   ]
  },
  {
   "cell_type": "code",
   "execution_count": 16,
   "metadata": {},
   "outputs": [
    {
     "name": "stdout",
     "output_type": "stream",
     "text": [
      "OneHotEncoder(categories='auto', drop='first', dtype=<class 'numpy.float64'>,\n",
      "              handle_unknown='error', sparse=False)\n",
      "X_train_cleaned      Gender       Age  Annual Income (k$)  Spending Score (1-100)\n",
      "40      0.0  1.771416           -0.844380               -0.585705\n",
      "4       0.0 -0.583546           -1.674190               -0.388498\n",
      "196     0.0  0.386144            2.632916               -0.861795\n",
      "111     0.0 -1.414709            0.143488                0.163682\n",
      "141     1.0 -0.514282            0.617665                1.701898\n",
      "..      ...       ...                 ...                     ...\n",
      "136     0.0  0.316881            0.538635               -1.690066\n",
      "133     0.0 -0.583546            0.499120                0.834186\n",
      "105     0.0 -1.276181            0.103973               -0.309615\n",
      "84      0.0 -1.276181           -0.212145                0.282006\n",
      "195     0.0 -0.306491            2.395827                1.149718\n",
      "\n",
      "[160 rows x 4 columns]\n"
     ]
    }
   ],
   "source": [
    "# **[3.10]** Create a list called `cat_cols` that contains `Gender`\n",
    "cat_cols = ['Gender']\n",
    "\n",
    "# **[3.11]** Instantiate a `OneHotEncoder` with `sparse=False` and `drop='first'` and save it to a variable called `ohe`\n",
    "ohe = OneHotEncoder(sparse=False, drop='first')\n",
    "print(ohe)\n",
    "\n",
    "# **[3.12]** Fit and transform the categorical feature of `X_train_cleaned` and replace the data into it\n",
    "X_train_cleaned[cat_cols] = ohe.fit_transform(X_train_cleaned[cat_cols])\n",
    "print('X_train_cleaned', X_train_cleaned)"
   ]
  },
  {
   "cell_type": "code",
   "execution_count": 17,
   "metadata": {},
   "outputs": [
    {
     "name": "stdout",
     "output_type": "stream",
     "text": [
      "     Gender       Age  Annual Income (k$)  Spending Score (1-100)\n",
      "0       0.0  1.771416           -0.844380               -0.585705\n",
      "1       0.0 -0.583546           -1.674190               -0.388498\n",
      "2       0.0  0.386144            2.632916               -0.861795\n",
      "3       0.0 -1.414709            0.143488                0.163682\n",
      "4       1.0 -0.514282            0.617665                1.701898\n",
      "..      ...       ...                 ...                     ...\n",
      "155     0.0  0.316881            0.538635               -1.690066\n",
      "156     0.0 -0.583546            0.499120                0.834186\n",
      "157     0.0 -1.276181            0.103973               -0.309615\n",
      "158     0.0 -1.276181           -0.212145                0.282006\n",
      "159     0.0 -0.306491            2.395827                1.149718\n",
      "\n",
      "[160 rows x 4 columns]\n"
     ]
    }
   ],
   "source": [
    "# **[3.13]** Reset the indexes of `X_train_cleaned`\n",
    "X_train_cleaned.reset_index(drop=True, inplace=True)\n",
    "print(X_train_cleaned)"
   ]
  },
  {
   "cell_type": "code",
   "execution_count": 18,
   "metadata": {},
   "outputs": [],
   "source": [
    "### 4. Gaussian Mixture Model\n",
    "\n",
    "# **[4.1]** Import `KElbowVisualizer` from `yellowbrick.cluster`\n",
    "#                  `KMeans` from `sklearn.cluster`\n",
    "from yellowbrick.cluster import KElbowVisualizer\n",
    "from sklearn.cluster import KMeans"
   ]
  },
  {
   "cell_type": "code",
   "execution_count": 19,
   "metadata": {},
   "outputs": [
    {
     "name": "stderr",
     "output_type": "stream",
     "text": [
      "/opt/conda/lib/python3.7/site-packages/sklearn/base.py:197: FutureWarning: From version 0.24, get_params will raise an AttributeError if a parameter cannot be retrieved as an instance attribute. Previously it would return None.\n",
      "  FutureWarning)\n"
     ]
    },
    {
     "data": {
      "text/plain": [
       "KElbowVisualizer(ax=<matplotlib.axes._subplots.AxesSubplot object at 0x7f1fd3898490>,\n",
       "                 estimator=KMeans(algorithm='auto', copy_x=True,\n",
       "                                  init='k-means++', max_iter=300, n_clusters=14,\n",
       "                                  n_init=10, n_jobs=None,\n",
       "                                  precompute_distances='auto',\n",
       "                                  random_state=None, tol=0.0001, verbose=0),\n",
       "                 k=None, locate_elbow=True, metric='distortion', timings=True)"
      ]
     },
     "execution_count": 19,
     "metadata": {},
     "output_type": "execute_result"
    },
    {
     "data": {
      "image/png": "[encoded data removed]",
      "text/plain": [
       "<Figure size 576x396 with 2 Axes>"
      ]
     },
     "metadata": {},
     "output_type": "display_data"
    }
   ],
   "source": [
    "# **[4.2]** Instantiate a `KElbowVisualizer` with an instantied KMeans and k=(2, 15) and save it into a variable called `model`\n",
    "model = KElbowVisualizer(KMeans(), k=(2,15))\n",
    "\n",
    "# **[4.3]** Fit `model` with `X_train_cleaned`\n",
    "model.fit(X_train_cleaned)"
   ]
  },
  {
   "cell_type": "code",
   "execution_count": 20,
   "metadata": {},
   "outputs": [
    {
     "data": {
      "text/plain": [
       "6"
      ]
     },
     "execution_count": 20,
     "metadata": {},
     "output_type": "execute_result"
    }
   ],
   "source": [
    "# **[4.4]** Save the attribute `elbow_value_` from `model` and save it to a variable called `n_clusters`\n",
    "n_clusters = model.elbow_value_\n",
    "n_clusters"
   ]
  },
  {
   "cell_type": "code",
   "execution_count": 24,
   "metadata": {},
   "outputs": [
    {
     "data": {
      "text/plain": [
       "GaussianMixture(covariance_type='full', init_params='kmeans', max_iter=100,\n",
       "                means_init=None, n_components=6, n_init=1, precisions_init=None,\n",
       "                random_state=8, reg_covar=1e-06, tol=0.001, verbose=0,\n",
       "                verbose_interval=10, warm_start=False, weights_init=None)"
      ]
     },
     "execution_count": 24,
     "metadata": {},
     "output_type": "execute_result"
    }
   ],
   "source": [
    "# **[4.5]** Import `GaussianMixture` from `sklearn.mixture`\n",
    "from sklearn.mixture import GaussianMixture\n",
    "\n",
    "# **[4.6]** Instantiate a `GaussianMixture` with `n_components` and `random_state` set and save it into a variable called `gmm`\n",
    "gmm = GaussianMixture(n_components=n_clusters, random_state=8)\n",
    "\n",
    "# **[4.7]** Fit `gmm` with `X_train_cleaned`\n",
    "gmm.fit(X_train_cleaned)"
   ]
  },
  {
   "cell_type": "code",
   "execution_count": 26,
   "metadata": {},
   "outputs": [
    {
     "data": {
      "text/plain": [
       "array([2, 2, 5, 4, 1, 3, 1, 4, 0, 0, 1, 0, 0, 2, 0, 2, 0, 1, 2, 1, 1, 4,\n",
       "       0, 5, 1, 0, 4, 4, 0, 5, 1, 1, 4, 3, 3, 4, 0, 2, 4, 0, 2, 2, 1, 0,\n",
       "       0, 5, 3, 0, 5, 3, 2, 0, 0, 4, 4, 5, 1, 3, 1, 0, 5, 0, 0, 1, 3, 4,\n",
       "       4, 1, 1, 3, 5, 2, 2, 5, 4, 5, 5, 5, 5, 0, 0, 0, 0, 4, 0, 2, 1, 5,\n",
       "       5, 3, 0, 3, 0, 4, 5, 1, 0, 0, 0, 2, 5, 3, 5, 5, 4, 1, 2, 2, 1, 0,\n",
       "       5, 4, 2, 3, 2, 3, 0, 0, 4, 3, 0, 0, 1, 5, 5, 0, 5, 1, 1, 0, 0, 4,\n",
       "       3, 1, 0, 2, 2, 0, 0, 0, 1, 4, 1, 3, 0, 1, 4, 1, 0, 0, 0, 4, 1, 0,\n",
       "       0, 5, 1, 4, 4, 1])"
      ]
     },
     "execution_count": 26,
     "metadata": {},
     "output_type": "execute_result"
    }
   ],
   "source": [
    "# **[4.8]** Make predictions on `X_train_cleaned`\n",
    "gmm.predict(X_train_cleaned)\n"
   ]
  },
  {
   "cell_type": "code",
   "execution_count": 27,
   "metadata": {},
   "outputs": [
    {
     "data": {
      "text/plain": [
       "array([2])"
      ]
     },
     "execution_count": 27,
     "metadata": {},
     "output_type": "execute_result"
    }
   ],
   "source": [
    "# **[4.9]** Transform the first observation of `X_train_cleaned` into a dataframe and call it `obs` \n",
    "obs = pd.DataFrame(X_train_cleaned.iloc[0]).transpose()\n",
    "\n",
    "# **[4.10]** Make prediction on `obs`\n",
    "gmm.predict(obs)"
   ]
  },
  {
   "cell_type": "markdown",
   "metadata": {},
   "source": [
    "### 5. Build Pipeline"
   ]
  },
  {
   "cell_type": "code",
   "execution_count": 28,
   "metadata": {},
   "outputs": [],
   "source": [
    "#  **[5.1]** Import `Pipeline` from `sklearn.pipeline`\n",
    "from sklearn.pipeline import Pipeline\n",
    "\n",
    "# **[5.2]** Create a `Pipeline` called `num_transformer` with one step that contains `StandardScaler`\n",
    "num_transformer = Pipeline(\n",
    "    steps=[\n",
    "        ('scaler', StandardScaler())\n",
    "    ]\n",
    ")\n",
    "\n",
    "# **[5.3]** Create a `Pipeline` called `cat_transformer` with one step that contains `OneHotEncoder`\n",
    "cat_transformer = Pipeline(\n",
    "    steps=[\n",
    "        ('one_hot_encoder', OneHotEncoder(sparse=False, drop='first'))\n",
    "    ]\n",
    ")"
   ]
  },
  {
   "cell_type": "code",
   "execution_count": 29,
   "metadata": {},
   "outputs": [],
   "source": [
    "# **[5.4]** Import `ColumnTransformer` from `sklearn.compose`\n",
    "from sklearn.compose import ColumnTransformer\n",
    "\n",
    "# **[5.5]** Create a `ColumnTransformer` called `preprocessor` with 2 steps containing `num_transformer` and `cat_transformer` \n",
    "# that will be applied respectively to `num_cols` and `cat_cols`\n",
    "preprocessor = ColumnTransformer(\n",
    "    transformers=[\n",
    "        ('num_cols', num_transformer, num_cols),\n",
    "        ('cat_cols', cat_transformer, cat_cols)\n",
    "    ]\n",
    ")"
   ]
  },
  {
   "cell_type": "code",
   "execution_count": 30,
   "metadata": {},
   "outputs": [],
   "source": [
    "# **[5.6]** Create a `Pipeline` called `gm_pipe` that contains 2 steps `preprocessor` and another that instantiate a GaussianMixture with same parameters as previously\n",
    "gmm_pipe = Pipeline(\n",
    "    steps=[\n",
    "        ('preprocessor', preprocessor),\n",
    "        ('clustering', GaussianMixture(n_components=6, random_state=8))\n",
    "    ]\n",
    ")"
   ]
  },
  {
   "cell_type": "code",
   "execution_count": 31,
   "metadata": {},
   "outputs": [
    {
     "data": {
      "text/plain": [
       "Pipeline(memory=None,\n",
       "         steps=[('preprocessor',\n",
       "                 ColumnTransformer(n_jobs=None, remainder='drop',\n",
       "                                   sparse_threshold=0.3,\n",
       "                                   transformer_weights=None,\n",
       "                                   transformers=[('num_cols',\n",
       "                                                  Pipeline(memory=None,\n",
       "                                                           steps=[('scaler',\n",
       "                                                                   StandardScaler(copy=True,\n",
       "                                                                                  with_mean=True,\n",
       "                                                                                  with_std=True))],\n",
       "                                                           verbose=False),\n",
       "                                                  ['Age', 'Annual Income (k$)',\n",
       "                                                   'Spending Score (1-100)']),\n",
       "                                                 ('cat_cols',\n",
       "                                                  Pipeline(memor...\n",
       "                                                                                 handle_unknown='error',\n",
       "                                                                                 sparse=False))],\n",
       "                                                           verbose=False),\n",
       "                                                  ['Gender'])],\n",
       "                                   verbose=False)),\n",
       "                ('clustering',\n",
       "                 GaussianMixture(covariance_type='full', init_params='kmeans',\n",
       "                                 max_iter=100, means_init=None, n_components=6,\n",
       "                                 n_init=1, precisions_init=None, random_state=8,\n",
       "                                 reg_covar=1e-06, tol=0.001, verbose=0,\n",
       "                                 verbose_interval=10, warm_start=False,\n",
       "                                 weights_init=None))],\n",
       "         verbose=False)"
      ]
     },
     "execution_count": 31,
     "metadata": {},
     "output_type": "execute_result"
    }
   ],
   "source": [
    "# **[5.7]** Fit `gmm_pipe` with `X_train`\n",
    "gmm_pipe.fit(X_train)"
   ]
  },
  {
   "cell_type": "code",
   "execution_count": 32,
   "metadata": {},
   "outputs": [
    {
     "data": {
      "text/plain": [
       "array([2, 2, 5, 4, 1, 3, 1, 4, 0, 0, 1, 0, 0, 2, 0, 2, 0, 1, 2, 1, 1, 4,\n",
       "       0, 5, 1, 0, 4, 4, 0, 5, 1, 1, 4, 3, 3, 4, 0, 2, 4, 0, 2, 2, 1, 0,\n",
       "       0, 5, 3, 0, 5, 3, 2, 0, 0, 4, 4, 5, 1, 3, 1, 0, 5, 0, 0, 1, 3, 4,\n",
       "       4, 1, 1, 3, 5, 2, 2, 5, 4, 5, 5, 5, 5, 0, 0, 0, 0, 4, 0, 2, 1, 5,\n",
       "       5, 3, 0, 3, 0, 4, 5, 1, 0, 0, 0, 2, 5, 3, 5, 5, 4, 1, 2, 2, 1, 0,\n",
       "       5, 4, 2, 3, 2, 3, 0, 0, 4, 3, 0, 0, 1, 5, 5, 0, 5, 1, 1, 0, 0, 4,\n",
       "       3, 1, 0, 2, 2, 0, 0, 0, 1, 4, 1, 3, 0, 1, 4, 1, 0, 0, 0, 4, 1, 0,\n",
       "       0, 5, 1, 4, 4, 1])"
      ]
     },
     "execution_count": 32,
     "metadata": {},
     "output_type": "execute_result"
    }
   ],
   "source": [
    "# **[5.8]** Make predictions on X_train\n",
    "gmm_pipe.predict(X_train)"
   ]
  },
  {
   "cell_type": "code",
   "execution_count": 33,
   "metadata": {},
   "outputs": [
    {
     "data": {
      "text/plain": [
       "array([2])"
      ]
     },
     "execution_count": 33,
     "metadata": {},
     "output_type": "execute_result"
    }
   ],
   "source": [
    "# **[5.9]** Transform the first observation of `X_train` into a dataframe, call it `obs` and make prediction on it\n",
    "obs = pd.DataFrame(X_train.iloc[0]).transpose()\n",
    "gmm_pipe.predict(obs)"
   ]
  },
  {
   "cell_type": "code",
   "execution_count": 34,
   "metadata": {},
   "outputs": [
    {
     "data": {
      "text/plain": [
       "['../models/gmm_pipeline.joblib']"
      ]
     },
     "execution_count": 34,
     "metadata": {},
     "output_type": "execute_result"
    }
   ],
   "source": [
    "# **[5.10]** Import `dump` from `joblib` package and save `gmm_pipe` into `models` folder\n",
    "from joblib import dump \n",
    "\n",
    "dump(gmm_pipe,  '../models/gmm_pipeline.joblib')\n"
   ]
  },
  {
   "cell_type": "markdown",
   "metadata": {},
   "source": [
    "### 6.   Push changes"
   ]
  },
  {
   "cell_type": "code",
   "execution_count": null,
   "metadata": {},
   "outputs": [],
   "source": [
    "# **[6.1]** Add you changes to git staging area\n",
    "git add . \n",
    "\n",
    "# **[6.2]** Create the snapshot of your repository and add a description\n",
    "git commit -m \"gmm pipeline\"\n",
    "\n",
    "# **[6.3]** Push your snapshot to Github\n",
    "git push https://**********@github.com/CazMayhem/adv_dsi_lab_4a.git"
   ]
  },
  {
   "cell_type": "code",
   "execution_count": null,
   "metadata": {},
   "outputs": [],
   "source": [
    "# **[6.4]** Check out to the master branch\n",
    "git checkout master\n",
    "\n",
    "# **[6.5]** Pull the latest updates\n",
    "git pull https://**********@github.com/CazMayhem/adv_dsi_lab_4a.git"
   ]
  },
  {
   "cell_type": "code",
   "execution_count": null,
   "metadata": {},
   "outputs": [],
   "source": [
    "# **[6.6]** Check out to the `gmm_pipeline`\n",
    "git checkout gmm_pipeline\n",
    "\n",
    "# **[6.7]** Merge the `master` branch and push your changes\n",
    "git merge master\n",
    "git push https://**********@github.com/CazMayhem/adv_dsi_lab_4a.git"
   ]
  },
  {
   "cell_type": "code",
   "execution_count": null,
   "metadata": {},
   "outputs": [],
   "source": [
    "# **[6.9]** Stop the Docker container\n",
    "docker stop adv_dsi_lab_4a"
   ]
  },
  {
   "cell_type": "code",
   "execution_count": null,
   "metadata": {},
   "outputs": [],
   "source": []
  }
 ],
 "metadata": {
  "kernelspec": {
   "display_name": "Python 3",
   "language": "python",
   "name": "python3"
  },
  "language_info": {
   "codemirror_mode": {
    "name": "ipython",
    "version": 3
   },
   "file_extension": ".py",
   "mimetype": "text/x-python",
   "name": "python",
   "nbconvert_exporter": "python",
   "pygments_lexer": "ipython3",
   "version": "3.7.6"
  }
 },
 "nbformat": 4,
 "nbformat_minor": 4
}
